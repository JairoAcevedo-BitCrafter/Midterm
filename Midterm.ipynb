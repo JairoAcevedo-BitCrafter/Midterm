{
  "cells": [
    {
      "cell_type": "code",
      "execution_count": 1,
      "metadata": {
        "colab": {
          "base_uri": "https://localhost:8080/"
        },
        "id": "If3CvxESQr-q",
        "outputId": "0e291dd6-48b1-460a-9a5c-219cfc1570da"
      },
      "outputs": [
        {
          "output_type": "stream",
          "name": "stdout",
          "text": [
            "Requirement already satisfied: contractions in /usr/local/lib/python3.10/dist-packages (0.1.73)\n",
            "Requirement already satisfied: textsearch>=0.0.21 in /usr/local/lib/python3.10/dist-packages (from contractions) (0.0.24)\n",
            "Requirement already satisfied: anyascii in /usr/local/lib/python3.10/dist-packages (from textsearch>=0.0.21->contractions) (0.3.2)\n",
            "Requirement already satisfied: pyahocorasick in /usr/local/lib/python3.10/dist-packages (from textsearch>=0.0.21->contractions) (2.0.0)\n",
            "Requirement already satisfied: emot in /usr/local/lib/python3.10/dist-packages (3.1)\n",
            "Requirement already satisfied: num2words in /usr/local/lib/python3.10/dist-packages (0.5.12)\n",
            "Requirement already satisfied: docopt>=0.6.2 in /usr/local/lib/python3.10/dist-packages (from num2words) (0.6.2)\n"
          ]
        }
      ],
      "source": [
        "!pip install contractions\n",
        "!pip install emot\n",
        "!pip install num2words"
      ]
    },
    {
      "cell_type": "markdown",
      "metadata": {
        "id": "TWWPvVffOA92"
      },
      "source": [
        "#Data preparation"
      ]
    },
    {
      "cell_type": "code",
      "execution_count": 2,
      "metadata": {
        "colab": {
          "base_uri": "https://localhost:8080/"
        },
        "id": "2JeJH-ToEbCB",
        "outputId": "925aae30-9d1f-4b68-df14-42b8f7e7dcc3"
      },
      "outputs": [
        {
          "output_type": "stream",
          "name": "stdout",
          "text": [
            "   id keyword location                                               text  \\\n",
            "0   1     NaN      NaN  Our Deeds are the Reason of this #earthquake M...   \n",
            "1   4     NaN      NaN             Forest fire near La Ronge Sask. Canada   \n",
            "2   5     NaN      NaN  All residents asked to 'shelter in place' are ...   \n",
            "3   6     NaN      NaN  13,000 people receive #wildfires evacuation or...   \n",
            "4   7     NaN      NaN  Just got sent this photo from Ruby #Alaska as ...   \n",
            "\n",
            "   target  \n",
            "0       1  \n",
            "1       1  \n",
            "2       1  \n",
            "3       1  \n",
            "4       1  \n",
            "   id keyword location                                               text\n",
            "0   0     NaN      NaN                 Just happened a terrible car crash\n",
            "1   2     NaN      NaN  Heard about #earthquake is different cities, s...\n",
            "2   3     NaN      NaN  there is a forest fire at spot pond, geese are...\n",
            "3   9     NaN      NaN           Apocalypse lighting. #Spokane #wildfires\n",
            "4  11     NaN      NaN      Typhoon Soudelor kills 28 in China and Taiwan\n"
          ]
        }
      ],
      "source": [
        "import pandas as pd\n",
        "import numpy as np\n",
        "#Obtaining the datasets\n",
        "train = pd.read_csv('train.csv')\n",
        "final_test=pd.read_csv('test.csv')\n",
        "# Some quick visualizations\n",
        "print(train.head())\n",
        "print(final_test.head())"
      ]
    },
    {
      "cell_type": "markdown",
      "metadata": {
        "id": "xlkw4VcMQ9GM"
      },
      "source": [
        "#Pre Processing"
      ]
    },
    {
      "cell_type": "code",
      "execution_count": 3,
      "metadata": {
        "colab": {
          "base_uri": "https://localhost:8080/"
        },
        "id": "RdeuGDl5RCIS",
        "outputId": "568ef8b3-b1c5-42d2-b400-7d766fb0aeb9"
      },
      "outputs": [
        {
          "output_type": "stream",
          "name": "stderr",
          "text": [
            "[nltk_data] Downloading package gutenberg to /root/nltk_data...\n",
            "[nltk_data]   Package gutenberg is already up-to-date!\n",
            "[nltk_data] Downloading package stopwords to /root/nltk_data...\n",
            "[nltk_data]   Package stopwords is already up-to-date!\n",
            "[nltk_data] Downloading package omw-1.4 to /root/nltk_data...\n",
            "[nltk_data]   Package omw-1.4 is already up-to-date!\n",
            "[nltk_data] Downloading package punkt to /root/nltk_data...\n",
            "[nltk_data]   Package punkt is already up-to-date!\n",
            "[nltk_data] Downloading package wordnet to /root/nltk_data...\n",
            "[nltk_data]   Package wordnet is already up-to-date!\n",
            "[nltk_data] Downloading package words to /root/nltk_data...\n",
            "[nltk_data]   Package words is already up-to-date!\n",
            "[nltk_data] Downloading package averaged_perceptron_tagger to\n",
            "[nltk_data]     /root/nltk_data...\n",
            "[nltk_data]   Package averaged_perceptron_tagger is already up-to-\n",
            "[nltk_data]       date!\n"
          ]
        },
        {
          "output_type": "execute_result",
          "data": {
            "text/plain": [
              "True"
            ]
          },
          "metadata": {},
          "execution_count": 3
        }
      ],
      "source": [
        "import nltk\n",
        "from nltk.corpus import gutenberg, stopwords, wordnet\n",
        "import contractions\n",
        "from nltk.tokenize import word_tokenize\n",
        "import string\n",
        "from nltk.stem import WordNetLemmatizer\n",
        "import re\n",
        "from bs4 import BeautifulSoup\n",
        "from num2words import num2words\n",
        "from emot.emo_unicode import UNICODE_EMOJI #for EMOJIS\n",
        "from emot.emo_unicode import EMOTICONS_EMO # For EMOTICONS\n",
        "nltk.download('gutenberg')\n",
        "nltk.download('stopwords')\n",
        "nltk.download('omw-1.4')\n",
        "nltk.download('punkt')\n",
        "nltk.download('wordnet')\n",
        "nltk.download('words')\n",
        "nltk.download('averaged_perceptron_tagger')"
      ]
    },
    {
      "cell_type": "code",
      "execution_count": 4,
      "metadata": {
        "id": "gRfP4xeuSIBT"
      },
      "outputs": [],
      "source": [
        "def lower_case(text):\n",
        "  return text.lower()\n",
        "def rem_lines(text):\n",
        "    return text.strip().replace('\\n', ' ')\n",
        "def rem_tags(text):\n",
        "  return BeautifulSoup(text, \"html.parser\").get_text()\n",
        "def fix_ct(text):\n",
        "    return contractions.fix(text)\n",
        "def rem_stopwords(text):\n",
        "  stop_words = set(stopwords.words('english'))\n",
        "  return [word for word in word_tokenize(text) if not word in stop_words]\n",
        "def rem_punct(text):\n",
        "    no_punct = [w.translate(str.maketrans('', '', string.punctuation)) for w in word_tokenize(text)]\n",
        "    return [word for word in no_punct if word.isalpha()]\n",
        "def lemmatize_words(text):\n",
        "    lemmatizer = WordNetLemmatizer()\n",
        "    wordnet_map = {\"N\":wordnet.NOUN, \"V\":wordnet.VERB, \"J\":wordnet.ADJ, \"R\":wordnet.ADV}\n",
        "    pos_tagged_text = nltk.pos_tag(text.split())\n",
        "    return ' '.join([lemmatizer.lemmatize(word, wordnet_map.get(pos[0], wordnet.NOUN)) for word, pos in pos_tagged_text])\n",
        "def to_number(text):\n",
        "    return(re.sub(r\"(\\d+)\", lambda x: num2words(int(x.group(0))), text))\n",
        "def convert_emoticons(text):\n",
        "    for emot in EMOTICONS_EMO:\n",
        "        text = text.replace(emot, EMOTICONS_EMO[emot]+\" \".replace(\"\",\"\"))\n",
        "    return text\n",
        "def convert_emojis(text):\n",
        "    for emot in UNICODE_EMOJI:\n",
        "        text = text.replace(emot,UNICODE_EMOJI[emot]+\" \".replace(\"\",\"\"))\n",
        "    return text\n",
        "def clean_text(text):\n",
        "  text = text.lower() # convert to lowercase\n",
        "  text = re.sub(r'[^a-z0-9\\s]', '', text) # remove non-alphanumeric characters\n",
        "  return text"
      ]
    },
    {
      "cell_type": "code",
      "execution_count": 5,
      "metadata": {
        "colab": {
          "base_uri": "https://localhost:8080/"
        },
        "id": "x7042uPDQLRc",
        "outputId": "065be890-9d08-4dc4-fef4-69c0d2876ea7"
      },
      "outputs": [
        {
          "output_type": "stream",
          "name": "stdout",
          "text": [
            "   id keyword location                                               text  \\\n",
            "0   1                   Our Deeds are the Reason of this #earthquake M...   \n",
            "1   4                              Forest fire near La Ronge Sask. Canada   \n",
            "2   5                   All residents asked to 'shelter in place' are ...   \n",
            "3   6                   13,000 people receive #wildfires evacuation or...   \n",
            "4   7                   Just got sent this photo from Ruby #Alaska as ...   \n",
            "\n",
            "   target  \n",
            "0       1  \n",
            "1       1  \n",
            "2       1  \n",
            "3       1  \n",
            "4       1  \n",
            "   id keyword location                                               text\n",
            "0   0                                  Just happened a terrible car crash\n",
            "1   2                   Heard about #earthquake is different cities, s...\n",
            "2   3                   there is a forest fire at spot pond, geese are...\n",
            "3   9                            Apocalypse lighting. #Spokane #wildfires\n",
            "4  11                       Typhoon Soudelor kills 28 in China and Taiwan\n"
          ]
        }
      ],
      "source": [
        "#Removing Nan\n",
        "train.keyword.fillna('', inplace=True)\n",
        "train.location.fillna('', inplace=True)\n",
        "final_test.keyword.fillna('', inplace=True)\n",
        "final_test.location.fillna('', inplace=True)\n",
        "print(train.head())\n",
        "print(final_test.head())"
      ]
    },
    {
      "cell_type": "code",
      "execution_count": 6,
      "metadata": {
        "id": "IrnlLitKSe2n",
        "colab": {
          "base_uri": "https://localhost:8080/"
        },
        "outputId": "ab5addeb-ce68-4d1a-d0ff-f0aae7744080"
      },
      "outputs": [
        {
          "output_type": "stream",
          "name": "stdout",
          "text": [
            "0         Our Deeds are the Reason of this #earthquake...\n",
            "1                  Forest fire near La Ronge Sask. Canada\n",
            "2         All residents asked to 'shelter in place' ar...\n",
            "3         13,000 people receive #wildfires evacuation ...\n",
            "4         Just got sent this photo from Ruby #Alaska a...\n",
            "                              ...                        \n",
            "7608      Two giant cranes holding a bridge collapse i...\n",
            "7609      @aria_ahrary @TheTawniest The out of control...\n",
            "7610      M1.94 [01:04 UTC]?5km S of Volcano Hawaii. h...\n",
            "7611      Police investigating after an e-bike collide...\n",
            "7612      The Latest: More Homes Razed by Northern Cal...\n",
            "Name: features, Length: 7613, dtype: object\n",
            "0                      Just happened a terrible car crash\n",
            "1         Heard about #earthquake is different cities,...\n",
            "2         there is a forest fire at spot pond, geese a...\n",
            "3                Apocalypse lighting. #Spokane #wildfires\n",
            "4           Typhoon Soudelor kills 28 in China and Taiwan\n",
            "                              ...                        \n",
            "3258      EARTHQUAKE SAFETY LOS ANGELES ÛÒ SAFETY FAS...\n",
            "3259      Storm in RI worse than last hurricane. My ci...\n",
            "3260      Green Line derailment in Chicago http://t.co...\n",
            "3261      MEG issues Hazardous Weather Outlook (HWO) h...\n",
            "3262      #CityofCalgary has activated its Municipal E...\n",
            "Name: features, Length: 3263, dtype: object\n"
          ]
        }
      ],
      "source": [
        "# Take out the id and target columns\n",
        "features_train = train.drop(columns=['target','id'] )\n",
        "features_test = final_test.drop(columns=['id'] )\n",
        "# Concatenate all\n",
        "train['features'] = features_train.astype(str).apply(' '.join, axis=1)\n",
        "final_test['features']=features_test.astype(str).apply(' '.join, axis=1)\n",
        "print(train['features'])\n",
        "print(final_test['features'])"
      ]
    },
    {
      "cell_type": "code",
      "execution_count": 7,
      "metadata": {
        "id": "tvqhSa0eY1tO",
        "colab": {
          "base_uri": "https://localhost:8080/"
        },
        "outputId": "07e3eafa-4f45-49c2-9a5c-0f3f3c48de9d"
      },
      "outputs": [
        {
          "output_type": "stream",
          "name": "stderr",
          "text": [
            "<ipython-input-4-99615809d8d8>:6: MarkupResemblesLocatorWarning: The input looks more like a filename than markup. You may want to open this file and pass the filehandle into Beautiful Soup.\n",
            "  return BeautifulSoup(text, \"html.parser\").get_text()\n"
          ]
        },
        {
          "output_type": "stream",
          "name": "stdout",
          "text": [
            "0         our deeds are the reason of this #earthquake...\n",
            "1                  forest fire near la ronge sask. canada\n",
            "2         all residents asked to 'shelter in place' ar...\n",
            "3         13,000 people receive #wildfires evacuation ...\n",
            "4         just got sent this photo from ruby #alaska a...\n",
            "                              ...                        \n",
            "7608      two giant cranes holding a bridge collapse i...\n",
            "7609      @aria_ahrary @thetawniest the out of control...\n",
            "7610      m1.94 [01:04 utc]?5km s of volcano hawaii. h...\n",
            "7611      police investigating after an e-bike collide...\n",
            "7612      the latest: more homes razed by northern cal...\n",
            "Name: features, Length: 7613, dtype: object\n",
            "0                      just happened a terrible car crash\n",
            "1         heard about #earthquake is different cities,...\n",
            "2         there is a forest fire at spot pond, geese a...\n",
            "3                apocalypse lighting. #spokane #wildfires\n",
            "4           typhoon soudelor kills 28 in china and taiwan\n",
            "                              ...                        \n",
            "3258      earthquake safety los angeles ûò safety fas...\n",
            "3259      storm in ri worse than last hurricane. my ci...\n",
            "3260      green line derailment in chicago httpSkeptic...\n",
            "3261      meg issues hazardous weather outlook (hwo) h...\n",
            "3262      #cityofcalgary has activated its municipal e...\n",
            "Name: features, Length: 3263, dtype: object\n"
          ]
        }
      ],
      "source": [
        "#cleaning train\n",
        "train['features']=train['features'].astype(str).apply(lower_case)\n",
        "#train['features']=train['features'].astype(str).apply(rem_lines)\n",
        "train['features']=train['features'].astype(str).apply(rem_tags)\n",
        "train['features']=train['features'].astype(str).apply(convert_emoticons)\n",
        "train['features']=train['features'].astype(str).apply(convert_emojis)\n",
        "#train['features']=train['features'].astype(str).apply(fix_ct)\n",
        "#train['features']=train['features'].astype(str).apply(rem_stopwords)\n",
        "#train['features']=train['features'].astype(str).apply(rem_punct)\n",
        "#train['features']=train['features'].astype(str).apply(to_number)\n",
        "#train['features']=train['features'].astype(str).apply(lemmatize_words)\n",
        "#cleaning test\n",
        "final_test['features']=final_test['features'].astype(str).apply(lower_case)\n",
        "#final_test['features']=final_test['features'].astype(str).apply(rem_lines)\n",
        "final_test['features']=final_test['features'].astype(str).apply(rem_tags)\n",
        "final_test['features']=final_test['features'].astype(str).apply(convert_emoticons)\n",
        "final_test['features']=final_test['features'].astype(str).apply(convert_emojis)\n",
        "#final_test['features']=final_test['features'].astype(str).apply(fix_ct)\n",
        "#final_test['features']=final_test['features'].astype(str).apply(rem_stopwords)\n",
        "#final_test['features']=final_test['features'].astype(str).apply(rem_punct)\n",
        "#final_test['features']=final_test['features'].astype(str).apply(to_number)\n",
        "#final_test['features']=final_test['features'].astype(str).apply(lemmatize_words)\n",
        "print(train['features'])\n",
        "print(final_test['features'])"
      ]
    },
    {
      "cell_type": "code",
      "execution_count": 8,
      "metadata": {
        "id": "qC9k9RjQO9vv",
        "colab": {
          "base_uri": "https://localhost:8080/"
        },
        "outputId": "492da919-d013-479f-dad0-9b0f8c0e1564"
      },
      "outputs": [
        {
          "output_type": "stream",
          "name": "stdout",
          "text": [
            "4996    military texas courageous and honest analysis ...\n",
            "3263    engulfed  @zachzaidman @670thescore wld b a sh...\n",
            "4907    massacre cottonwood arizona tell @barackobama ...\n",
            "2855    drought spokane, wa worried about how the ca d...\n",
            "4716    lava medan,indonesia @youngheroesid lava blast...\n",
            "                              ...                        \n",
            "5226    obliteration merica! @eganator2000 there aren'...\n",
            "5390    panic  just had a panic attack bc i don't have...\n",
            "860     blood  omron hem-712c automatic blood pressure...\n",
            "7603      officials say a quarantine is in place at an...\n",
            "7270    whirlwind stamford & cork (& shropshire) i mov...\n",
            "Name: features, Length: 6090, dtype: object\n",
            "2644    destruction  so you have a new weapon that can...\n",
            "2227    deluge  the f$&@ing things i do for #gishwhes ...\n",
            "5448    police uk dt @georgegalloway: rt @galloway4may...\n",
            "132     aftershock  aftershock back to school kick off...\n",
            "6845    trauma montgomery county, md in response to tr...\n",
            "                              ...                        \n",
            "1835    crashed somewhere @smusx16475 skype just crash...\n",
            "506     attacked arundel  christian attacked by muslim...\n",
            "3592    fatal new south wales, australia man charged o...\n",
            "6740    thunderstorm  #usnwsgov severe weather stateme...\n",
            "1634    collapsed  great british <b>bake</b> off's bac...\n",
            "Name: features, Length: 1523, dtype: object\n"
          ]
        }
      ],
      "source": [
        "# Training data preparation\n",
        "from sklearn.model_selection import train_test_split\n",
        "# Splitting the data\n",
        "X_train, X_test, y_train, y_test = train_test_split(train['features'], train['target'], test_size=0.2, random_state=42)\n",
        "#quick visualization\n",
        "print(X_train)\n",
        "print(X_test)"
      ]
    },
    {
      "cell_type": "code",
      "execution_count": 9,
      "metadata": {
        "id": "DFh9Yn7wOuo_"
      },
      "outputs": [],
      "source": [
        "#Vectorization\n",
        "from sklearn.feature_extraction.text import TfidfVectorizer\n",
        "#Vectorizer\n",
        "vectorizer = TfidfVectorizer(min_df=0., max_df=1., norm='l2',\n",
        " use_idf=True, smooth_idf=True)\n",
        "#Training data vectorization\n",
        "X_train_vec = vectorizer.fit_transform(X_train)\n",
        "X_test_vec = vectorizer.transform(X_test)\n",
        "#Problem vectorization\n",
        "final_test_vec=vectorizer.transform(final_test['features'].astype(str))"
      ]
    },
    {
      "cell_type": "markdown",
      "metadata": {
        "id": "aS4BGzomOHLg"
      },
      "source": [
        "#Training"
      ]
    },
    {
      "cell_type": "code",
      "execution_count": 10,
      "metadata": {
        "id": "JZQ6R_MbSm5O"
      },
      "outputs": [],
      "source": [
        "#Some models\n",
        "from sklearn.svm import LinearSVC as SVM\n",
        "from sklearn.svm import SVC\n",
        "from sklearn.linear_model import LogisticRegression as LR\n",
        "from sklearn.metrics import classification_report as CR\n",
        "from sklearn.naive_bayes import BernoulliNB as NB\n",
        "from sklearn.ensemble import RandomForestClassifier as RFC\n",
        "from sklearn.linear_model import Perceptron as PT\n",
        "#initial models configuration\n",
        "svm=SVM(penalty='l2',max_iter=500,C=1,random_state=42)\n",
        "svc=SVC(max_iter=500,C=1,random_state=42)\n",
        "lr=LR(max_iter=500)\n",
        "nb=NB(alpha=.1)\n",
        "rfc=RFC(n_estimators=10,random_state=42)\n",
        "pt=PT(tol=1e-3, random_state=42)\n",
        "#array of models\n",
        "models=[svm,lr, nb, rfc, pt]\n",
        "#array of results\n",
        "pred=[]"
      ]
    },
    {
      "cell_type": "code",
      "execution_count": 11,
      "metadata": {
        "id": "bhYsUbtrA2kG",
        "colab": {
          "base_uri": "https://localhost:8080/"
        },
        "outputId": "6a262c68-135e-4279-ad82-31900bc2444f"
      },
      "outputs": [
        {
          "output_type": "stream",
          "name": "stdout",
          "text": [
            "LinearSVC(C=1, max_iter=500, random_state=42)\n",
            "              precision    recall  f1-score   support\n",
            "\n",
            "           0       0.81      0.81      0.81       874\n",
            "           1       0.75      0.74      0.74       649\n",
            "\n",
            "    accuracy                           0.78      1523\n",
            "   macro avg       0.78      0.78      0.78      1523\n",
            "weighted avg       0.78      0.78      0.78      1523\n",
            "\n",
            "f1: 0.7416602017067494\n",
            "accuracy: 0.7813525935653316\n",
            "LogisticRegression(max_iter=500)\n",
            "              precision    recall  f1-score   support\n",
            "\n",
            "           0       0.80      0.85      0.82       874\n",
            "           1       0.78      0.71      0.74       649\n",
            "\n",
            "    accuracy                           0.79      1523\n",
            "   macro avg       0.79      0.78      0.78      1523\n",
            "weighted avg       0.79      0.79      0.79      1523\n",
            "\n",
            "f1: 0.7447833065810594\n",
            "accuracy: 0.7912015758371634\n",
            "BernoulliNB(alpha=0.1)\n",
            "              precision    recall  f1-score   support\n",
            "\n",
            "           0       0.80      0.84      0.82       874\n",
            "           1       0.76      0.72      0.74       649\n",
            "\n",
            "    accuracy                           0.78      1523\n",
            "   macro avg       0.78      0.78      0.78      1523\n",
            "weighted avg       0.78      0.78      0.78      1523\n",
            "\n",
            "f1: 0.7392686804451511\n",
            "accuracy: 0.7846355876559422\n",
            "RandomForestClassifier(n_estimators=10, random_state=42)\n",
            "              precision    recall  f1-score   support\n",
            "\n",
            "           0       0.72      0.90      0.80       874\n",
            "           1       0.80      0.54      0.64       649\n",
            "\n",
            "    accuracy                           0.75      1523\n",
            "   macro avg       0.76      0.72      0.72      1523\n",
            "weighted avg       0.76      0.75      0.74      1523\n",
            "\n",
            "f1: 0.6432532347504621\n",
            "accuracy: 0.7465528562048588\n",
            "Perceptron(random_state=42)\n",
            "              precision    recall  f1-score   support\n",
            "\n",
            "           0       0.79      0.76      0.77       874\n",
            "           1       0.69      0.73      0.71       649\n",
            "\n",
            "    accuracy                           0.75      1523\n",
            "   macro avg       0.74      0.74      0.74      1523\n",
            "weighted avg       0.75      0.75      0.75      1523\n",
            "\n",
            "f1: 0.7115097159940209\n",
            "accuracy: 0.7465528562048588\n"
          ]
        }
      ],
      "source": [
        "#Training with each model\n",
        "from sklearn.metrics import accuracy_score, f1_score\n",
        "def fit(x_train,y_train,x_test,y_test):\n",
        "  for model in models:\n",
        "    model.fit(x_train,y_train)\n",
        "    print(model)\n",
        "    prediction=(model.predict(x_test))\n",
        "    print(CR(y_test,prediction))\n",
        "    print(\"f1:\",f1_score(y_test,prediction))\n",
        "    print(\"accuracy:\",accuracy_score(y_test,prediction))\n",
        "    pred.append(prediction)\n",
        "#function execution\n",
        "fit(X_train_vec,y_train,X_test_vec,y_test)"
      ]
    },
    {
      "cell_type": "code",
      "execution_count": 12,
      "metadata": {
        "id": "gXKJYJwEL_iL",
        "colab": {
          "base_uri": "https://localhost:8080/"
        },
        "outputId": "52a77b19-b2de-4e07-9a97-7b9624689bb6"
      },
      "outputs": [
        {
          "output_type": "stream",
          "name": "stdout",
          "text": [
            "              precision    recall  f1-score   support\n",
            "\n",
            "           0       0.80      0.84      0.82       874\n",
            "           1       0.77      0.72      0.75       649\n",
            "\n",
            "    accuracy                           0.79      1523\n",
            "   macro avg       0.79      0.78      0.78      1523\n",
            "weighted avg       0.79      0.79      0.79      1523\n",
            "\n",
            "f1: 0.7462211614956246\n",
            "accuracy: 0.7905449770190414\n"
          ]
        }
      ],
      "source": [
        "#Reconfiguring LinearSVC as it showed to be the best option\n",
        "svm=SVM(penalty='l2',max_iter=2000,C=0.2,random_state=38,tol=1e-9)\n",
        "svm.fit(X_train_vec,y_train)\n",
        "y_pred=(svm.predict(X_test_vec))\n",
        "print(CR(y_test,y_pred))\n",
        "print(\"f1:\",f1_score(y_test,y_pred))\n",
        "print(\"accuracy:\",accuracy_score(y_test,y_pred))"
      ]
    },
    {
      "cell_type": "markdown",
      "metadata": {
        "id": "8vlj0Z3WOOQQ"
      },
      "source": [
        "#Execution"
      ]
    },
    {
      "cell_type": "code",
      "execution_count": 13,
      "metadata": {
        "id": "vORGrUPHpHmk",
        "colab": {
          "base_uri": "https://localhost:8080/"
        },
        "outputId": "7f52d8ef-d8fb-4d6f-b2f1-0de6fb310fa1"
      },
      "outputs": [
        {
          "output_type": "stream",
          "name": "stdout",
          "text": [
            "   id  target\n",
            "0   0       1\n",
            "1   2       1\n",
            "2   3       1\n",
            "3   9       0\n",
            "4  11       1\n"
          ]
        }
      ],
      "source": [
        "#prediction of the actual test data with linearSVC\n",
        "y_pred=(svm.predict(final_test_vec))\n",
        "#transforming into dataframe to facilitate csv creation\n",
        "\n",
        "result_df=final_test.drop(columns=['keyword','location','text','features'] )\n",
        "result_df['target']=y_pred\n",
        "print(result_df.head())"
      ]
    },
    {
      "cell_type": "markdown",
      "metadata": {
        "id": "2Xg1N65ZCu5H"
      },
      "source": [
        "#CSV creation"
      ]
    },
    {
      "cell_type": "code",
      "execution_count": 14,
      "metadata": {
        "id": "cpKaQU2hyI5N",
        "colab": {
          "base_uri": "https://localhost:8080/",
          "height": 17
        },
        "outputId": "bfd4a2eb-f268-4c5e-948d-cc9fff5b3bf5"
      },
      "outputs": [
        {
          "output_type": "display_data",
          "data": {
            "text/plain": [
              "<IPython.core.display.Javascript object>"
            ],
            "application/javascript": [
              "\n",
              "    async function download(id, filename, size) {\n",
              "      if (!google.colab.kernel.accessAllowed) {\n",
              "        return;\n",
              "      }\n",
              "      const div = document.createElement('div');\n",
              "      const label = document.createElement('label');\n",
              "      label.textContent = `Downloading \"${filename}\": `;\n",
              "      div.appendChild(label);\n",
              "      const progress = document.createElement('progress');\n",
              "      progress.max = size;\n",
              "      div.appendChild(progress);\n",
              "      document.body.appendChild(div);\n",
              "\n",
              "      const buffers = [];\n",
              "      let downloaded = 0;\n",
              "\n",
              "      const channel = await google.colab.kernel.comms.open(id);\n",
              "      // Send a message to notify the kernel that we're ready.\n",
              "      channel.send({})\n",
              "\n",
              "      for await (const message of channel.messages) {\n",
              "        // Send a message to notify the kernel that we're ready.\n",
              "        channel.send({})\n",
              "        if (message.buffers) {\n",
              "          for (const buffer of message.buffers) {\n",
              "            buffers.push(buffer);\n",
              "            downloaded += buffer.byteLength;\n",
              "            progress.value = downloaded;\n",
              "          }\n",
              "        }\n",
              "      }\n",
              "      const blob = new Blob(buffers, {type: 'application/binary'});\n",
              "      const a = document.createElement('a');\n",
              "      a.href = window.URL.createObjectURL(blob);\n",
              "      a.download = filename;\n",
              "      div.appendChild(a);\n",
              "      a.click();\n",
              "      div.remove();\n",
              "    }\n",
              "  "
            ]
          },
          "metadata": {}
        },
        {
          "output_type": "display_data",
          "data": {
            "text/plain": [
              "<IPython.core.display.Javascript object>"
            ],
            "application/javascript": [
              "download(\"download_9ca8a5b0-15db-4564-b870-ba24a4f6e0bc\", \"submission_Jairo_Acevedo_17_processing_1_svm.csv\", 22746)"
            ]
          },
          "metadata": {}
        }
      ],
      "source": [
        "from google.colab import files\n",
        "#csv creation and download\n",
        "file_name_csv = \"submission_Jairo_Acevedo_17_processing_1_svm.csv\"  # Nombre del archivo CSV de salida\n",
        "result_df.to_csv(file_name_csv, index=False)  # index=False para omitir la columna de índices\n",
        "files.download(file_name_csv)"
      ]
    }
  ],
  "metadata": {
    "colab": {
      "provenance": []
    },
    "kernelspec": {
      "display_name": "Python 3",
      "name": "python3"
    },
    "language_info": {
      "name": "python"
    }
  },
  "nbformat": 4,
  "nbformat_minor": 0
}